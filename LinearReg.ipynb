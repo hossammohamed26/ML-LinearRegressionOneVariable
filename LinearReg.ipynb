{
  "nbformat": 4,
  "nbformat_minor": 0,
  "metadata": {
    "colab": {
      "name": "LinearReg.ipynb",
      "provenance": [],
      "collapsed_sections": [],
      "authorship_tag": "ABX9TyPyOaFEO9z7C72DNPQQeyoq"
    },
    "kernelspec": {
      "name": "python3",
      "display_name": "Python 3"
    },
    "language_info": {
      "name": "python"
    }
  },
  "cells": [
    {
      "cell_type": "code",
      "execution_count": 30,
      "metadata": {
        "id": "bhHMnRJSkGwj"
      },
      "outputs": [],
      "source": [
        "import numpy as np\n",
        "import matplotlib.pyplot as plt\n",
        "import pandas as pd"
      ]
    },
    {
      "cell_type": "code",
      "source": [
        "dataset = pd.read_csv('house_data.csv')"
      ],
      "metadata": {
        "id": "tHnkWc8fkfFl"
      },
      "execution_count": 31,
      "outputs": []
    },
    {
      "cell_type": "code",
      "source": [
        "dataset.insert(6,\"x0\",1)\n",
        "print (dataset.head())\n"
      ],
      "metadata": {
        "colab": {
          "base_uri": "https://localhost:8080/"
        },
        "id": "x_Wb9l-qNVIz",
        "outputId": "efa649cd-c33a-4806-a892-4bfd209d3d6b"
      },
      "execution_count": 32,
      "outputs": [
        {
          "output_type": "stream",
          "name": "stdout",
          "text": [
            "           id             date     price  ...     long  sqft_living15  sqft_lot15\n",
            "0  7129300520  20141013T000000  221900.0  ... -122.257           1340        5650\n",
            "1  6414100192  20141209T000000  538000.0  ... -122.319           1690        7639\n",
            "2  5631500400  20150225T000000  180000.0  ... -122.233           2720        8062\n",
            "3  2487200875  20141209T000000  604000.0  ... -122.393           1360        5000\n",
            "4  1954400510  20150218T000000  510000.0  ... -122.045           1800        7503\n",
            "\n",
            "[5 rows x 22 columns]\n"
          ]
        }
      ]
    },
    {
      "cell_type": "code",
      "source": [
        "x_data = dataset.iloc[:,[5,6]]\n",
        "y_data = dataset['price']\n",
        "plt.plot(x_data.iloc[:,0], y_data, 'ro', label='Original data') \n",
        "plt.xlabel(\"sqft\")\n",
        "plt.ylabel(\"price\")\n",
        "plt.legend()\n",
        "plt.show()"
      ],
      "metadata": {
        "colab": {
          "base_uri": "https://localhost:8080/",
          "height": 290
        },
        "id": "my-gDWmfkjpI",
        "outputId": "d168111b-abff-4d7e-f308-f310c4839dcd"
      },
      "execution_count": 33,
      "outputs": [
        {
          "output_type": "display_data",
          "data": {
            "image/png": "[encoded data removed]",
            "text/plain": [
              "<Figure size 432x288 with 1 Axes>"
            ]
          },
          "metadata": {
            "needs_background": "light"
          }
        }
      ]
    },
    {
      "cell_type": "code",
      "source": [
        "#scaling\n",
        "x_max=x_data.iloc[:,0].max()\n",
        "x_data.iloc[:,0]=x_data.iloc[:,0]/x_max\n",
        "print(x_max)\n",
        "print(x_data)"
      ],
      "metadata": {
        "colab": {
          "base_uri": "https://localhost:8080/"
        },
        "id": "C1XcicVSRUom",
        "outputId": "45f1b845-a87d-4c90-f0ea-4546087aa771"
      },
      "execution_count": 34,
      "outputs": [
        {
          "output_type": "stream",
          "name": "stdout",
          "text": [
            "13540\n",
            "       sqft_living  x0\n",
            "0         0.087149   1\n",
            "1         0.189808   1\n",
            "2         0.056869   1\n",
            "3         0.144756   1\n",
            "4         0.124077   1\n",
            "...            ...  ..\n",
            "21608     0.112999   1\n",
            "21609     0.170606   1\n",
            "21610     0.075332   1\n",
            "21611     0.118168   1\n",
            "21612     0.075332   1\n",
            "\n",
            "[21613 rows x 2 columns]\n"
          ]
        },
        {
          "output_type": "stream",
          "name": "stderr",
          "text": [
            "/usr/local/lib/python3.7/dist-packages/pandas/core/indexing.py:1743: SettingWithCopyWarning: \n",
            "A value is trying to be set on a copy of a slice from a DataFrame.\n",
            "Try using .loc[row_indexer,col_indexer] = value instead\n",
            "\n",
            "See the caveats in the documentation: https://pandas.pydata.org/pandas-docs/stable/user_guide/indexing.html#returning-a-view-versus-a-copy\n",
            "  isetter(ilocs[0], value)\n"
          ]
        }
      ]
    },
    {
      "cell_type": "code",
      "source": [
        "#convert to matrix\n",
        "x_data=np.array(x_data)\n",
        "y_data=np.array(y_data).flatten()\n",
        "print(x_data.shape)\n",
        "print(y_data.shape)"
      ],
      "metadata": {
        "colab": {
          "base_uri": "https://localhost:8080/"
        },
        "id": "lwVYDSdaS9ss",
        "outputId": "d495ae64-93b8-404b-aec5-c9660a0e9b51"
      },
      "execution_count": 35,
      "outputs": [
        {
          "output_type": "stream",
          "name": "stdout",
          "text": [
            "(21613, 2)\n",
            "(21613,)\n"
          ]
        }
      ]
    },
    {
      "cell_type": "code",
      "source": [
        "#split data train & test 80/20\n",
        "trainSize=int(y_data.size*.8)\n",
        "testSize=round(y_data.size*.2)\n",
        "print(trainSize,testSize)\n",
        "xTrain=x_data[:trainSize]\n",
        "xTest=x_data[trainSize:]\n",
        "\n",
        "yTrain=y_data[:trainSize]\n",
        "yTest=y_data[trainSize:]\n",
        "\n",
        "print(xTrain,xTest)\n",
        "print(len(yTrain),len(yTest))"
      ],
      "metadata": {
        "colab": {
          "base_uri": "https://localhost:8080/"
        },
        "id": "o0vcL8BaTp4r",
        "outputId": "6f046cc2-a611-4cc6-b94b-7fa70bbcd193"
      },
      "execution_count": 36,
      "outputs": [
        {
          "output_type": "stream",
          "name": "stdout",
          "text": [
            "17290 4323\n",
            "[[0.08714919 1.        ]\n",
            " [0.18980798 1.        ]\n",
            " [0.05686854 1.        ]\n",
            " ...\n",
            " [0.18759232 1.        ]\n",
            " [0.38035451 1.        ]\n",
            " [0.25258493 1.        ]] [[0.1676514  1.        ]\n",
            " [0.1676514  1.        ]\n",
            " [0.10856721 1.        ]\n",
            " ...\n",
            " [0.07533235 1.        ]\n",
            " [0.11816839 1.        ]\n",
            " [0.07533235 1.        ]]\n",
            "17290 4323\n"
          ]
        }
      ]
    },
    {
      "cell_type": "code",
      "source": [
        "alpha=.0001\n",
        "ceta=np.array([0,0])\n",
        "def gradientDescentOneVar():\n",
        "    global ceta\n",
        "    for i in range(100):\n",
        "        y_pred = xTrain.dot(ceta) #loss\n",
        "        ceta = ceta - (xTrain.T.dot(y_pred - yTrain)) * alpha * (1 / trainSize)\n",
        "        ceta0,ceta1=ceta\n",
        "        #print(MSE(ceta0,ceta1))\n",
        "        print(ceta)"
      ],
      "metadata": {
        "id": "EU0Jop-CW3rp"
      },
      "execution_count": 37,
      "outputs": []
    },
    {
      "cell_type": "code",
      "source": [
        "def MSE(ceta0,ceta1):\n",
        "    Esum=0\n",
        "    for i in range(trainSize):\n",
        "        Esum+=pow( y_data[i] - (ceta0+ceta1*x_data[i]) , 2)\n",
        "    Esum=Esum*(1/trainSize)\n",
        "    return Esum"
      ],
      "metadata": {
        "id": "gDnukG5HW_Cc"
      },
      "execution_count": 38,
      "outputs": []
    },
    {
      "cell_type": "code",
      "source": [
        "gradientDescentOneVar()"
      ],
      "metadata": {
        "colab": {
          "base_uri": "https://localhost:8080/"
        },
        "id": "ZL7RcrO6XAOz",
        "outputId": "c9f8fa87-30db-4635-996c-ab0e40cf0fe7"
      },
      "execution_count": 39,
      "outputs": [
        {
          "output_type": "stream",
          "name": "stdout",
          "text": [
            "[ 9.80325269 53.32474934]\n",
            "[ 19.60566951 106.64401749]\n",
            "[ 29.40725053 159.95780501]\n",
            "[ 39.20799586 213.26611246]\n",
            "[ 49.00790556 266.5689404 ]\n",
            "[ 58.80697973 319.86628939]\n",
            "[ 68.60521846 373.15815999]\n",
            "[ 78.40262182 426.44455276]\n",
            "[ 88.1991899  479.72546827]\n",
            "[ 97.9949228  533.00090707]\n",
            "[107.78982058 586.27086973]\n",
            "[117.58388335 639.53535679]\n",
            "[127.37711118 692.79436884]\n",
            "[137.16950416 746.04790641]\n",
            "[146.96106238 799.29597008]\n",
            "[156.75178592 852.53856041]\n",
            "[166.54167486 905.77567795]\n",
            "[176.3307293  959.00732326]\n",
            "[ 186.11894931 1012.23349691]\n",
            "[ 195.90633498 1065.45419945]\n",
            "[ 205.6928864  1118.66943145]\n",
            "[ 215.47860366 1171.87919346]\n",
            "[ 225.26348683 1225.08348604]\n",
            "[ 235.047536   1278.28230976]\n",
            "[ 244.83075126 1331.47566517]\n",
            "[ 254.6131327  1384.66355283]\n",
            "[ 264.39468039 1437.8459733 ]\n",
            "[ 274.17539443 1491.02292714]\n",
            "[ 283.9552749  1544.19441491]\n",
            "[ 293.73432188 1597.36043717]\n",
            "[ 303.51253546 1650.52099448]\n",
            "[ 313.28991573 1703.6760874 ]\n",
            "[ 323.06646277 1756.82571648]\n",
            "[ 332.84217666 1809.96988229]\n",
            "[ 342.61705749 1863.10858539]\n",
            "[ 352.39110535 1916.24182632]\n",
            "[ 362.16432032 1969.36960566]\n",
            "[ 371.93670248 2022.49192396]\n",
            "[ 381.70825193 2075.60878178]\n",
            "[ 391.47896874 2128.72017968]\n",
            "[ 401.248853   2181.82611822]\n",
            "[ 411.0179048  2234.92659795]\n",
            "[ 420.78612422 2288.02161944]\n",
            "[ 430.55351135 2341.11118324]\n",
            "[ 440.32006626 2394.19528991]\n",
            "[ 450.08578906 2447.27394001]\n",
            "[ 459.85067981 2500.34713409]\n",
            "[ 469.61473862 2553.41487273]\n",
            "[ 479.37796555 2606.47715646]\n",
            "[ 489.1403607  2659.53398586]\n",
            "[ 498.90192416 2712.58536148]\n",
            "[ 508.662656   2765.63128388]\n",
            "[ 518.42255631 2818.67175362]\n",
            "[ 528.18162518 2871.70677124]\n",
            "[ 537.93986269 2924.73633732]\n",
            "[ 547.69726893 2977.76045241]\n",
            "[ 557.45384398 3030.77911707]\n",
            "[ 567.20958793 3083.79233185]\n",
            "[ 576.96450086 3136.80009732]\n",
            "[ 586.71858285 3189.80241402]\n",
            "[ 596.471834   3242.79928253]\n",
            "[ 606.22425438 3295.79070338]\n",
            "[ 615.97584409 3348.77667715]\n",
            "[ 625.7266032  3401.75720439]\n",
            "[ 635.4765318  3454.73228566]\n",
            "[ 645.22562998 3507.70192151]\n",
            "[ 654.97389782 3560.6661125 ]\n",
            "[ 664.72133541 3613.6248592 ]\n",
            "[ 674.46794282 3666.57816214]\n",
            "[ 684.21372016 3719.5260219 ]\n",
            "[ 693.95866749 3772.46843903]\n",
            "[ 703.70278491 3825.40541408]\n",
            "[ 713.4460725  3878.33694762]\n",
            "[ 723.18853034 3931.2630402 ]\n",
            "[ 732.93015852 3984.18369237]\n",
            "[ 742.67095713 4037.0989047 ]\n",
            "[ 752.41092625 4090.00867773]\n",
            "[ 762.15006596 4142.91301204]\n",
            "[ 771.88837636 4195.81190816]\n",
            "[ 781.62585751 4248.70536666]\n",
            "[ 791.36250952 4301.5933881 ]\n",
            "[ 801.09833245 4354.47597303]\n",
            "[ 810.83332641 4407.35312201]\n",
            "[ 820.56749147 4460.22483559]\n",
            "[ 830.30082772 4513.09111434]\n",
            "[ 840.03333523 4565.9519588 ]\n",
            "[ 849.76501411 4618.80736953]\n",
            "[ 859.49586443 4671.65734709]\n",
            "[ 869.22588627 4724.50189203]\n",
            "[ 878.95507973 4777.34100491]\n",
            "[ 888.68344488 4830.17468629]\n",
            "[ 898.41098181 4883.00293672]\n",
            "[ 908.13769061 4935.82575676]\n",
            "[ 917.86357135 4988.64314695]\n",
            "[ 927.58862414 5041.45510787]\n",
            "[ 937.31284904 5094.26164006]\n",
            "[ 947.03624614 5147.06274408]\n",
            "[ 956.75881553 5199.85842049]\n",
            "[ 966.4805573  5252.64866983]\n",
            "[ 976.20147152 5305.43349267]\n"
          ]
        }
      ]
    }
  ]
}