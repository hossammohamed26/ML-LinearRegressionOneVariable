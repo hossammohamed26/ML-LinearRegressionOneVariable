{
  "nbformat": 4,
  "nbformat_minor": 0,
  "metadata": {
    "colab": {
      "name": "LinearReg.ipynb",
      "provenance": [],
      "collapsed_sections": [],
      "authorship_tag": "ABX9TyOmal0KW3qpKzcfJNwkEmep",
      "include_colab_link": true
    },
    "kernelspec": {
      "name": "python3",
      "display_name": "Python 3"
    },
    "language_info": {
      "name": "python"
    }
  },
  "cells": [
    {
      "cell_type": "markdown",
      "metadata": {
        "id": "view-in-github",
        "colab_type": "text"
      },
      "source": [
        "<a href=\"https://colab.research.google.com/github/hossammohamed26/ML-LinearRegressionOneVariable/blob/main/LinearReg.ipynb\" target=\"_parent\"><img src=\"https://colab.research.google.com/assets/colab-badge.svg\" alt=\"Open In Colab\"/></a>"
      ]
    },
    {
      "cell_type": "code",
      "execution_count": 68,
      "metadata": {
        "id": "bhHMnRJSkGwj"
      },
      "outputs": [],
      "source": [
        "import numpy as np\n",
        "import matplotlib.pyplot as plt\n",
        "import pandas as pd"
      ]
    },
    {
      "cell_type": "code",
      "source": [
        "dataset = pd.read_csv('diabetic_kidney_disease.csv')"
      ],
      "metadata": {
        "id": "tHnkWc8fkfFl"
      },
      "execution_count": 69,
      "outputs": []
    },
    {
      "cell_type": "code",
      "source": [
        "dataset.insert(1,\"x0\",1)\n",
        "print (dataset.head())\n"
      ],
      "metadata": {
        "colab": {
          "base_uri": "https://localhost:8080/"
        },
        "id": "x_Wb9l-qNVIz",
        "outputId": "11dab009-84c4-42e0-e068-9d24c9b9c6ad"
      },
      "execution_count": 70,
      "outputs": [
        {
          "output_type": "stream",
          "name": "stdout",
          "text": [
            "   FBG (mg/dL)  x0  ...  Total cholesterol (mg/dL)  UACR (mg/g creatinine)\n",
            "0          140   1  ...                        144                    16.0\n",
            "1          135   1  ...                        170                     8.0\n",
            "2          140   1  ...                        180                    23.0\n",
            "3          190   1  ...                        122                    38.0\n",
            "4          250   1  ...                        167                    21.0\n",
            "\n",
            "[5 rows x 5 columns]\n"
          ]
        }
      ]
    },
    {
      "cell_type": "code",
      "source": [
        "x_data = dataset.iloc[:,[0,1]]\n",
        "y_data = dataset.iloc[:,-1]\n",
        "plt.plot(x_data.iloc[:,0], y_data, 'ro', label='Original data') \n",
        "plt.xlabel(\"sqft\")\n",
        "plt.ylabel(\"price\")\n",
        "plt.legend()\n",
        "plt.show()"
      ],
      "metadata": {
        "colab": {
          "base_uri": "https://localhost:8080/",
          "height": 279
        },
        "id": "my-gDWmfkjpI",
        "outputId": "30d900db-29c8-446d-bafb-b6a06982df80"
      },
      "execution_count": 71,
      "outputs": [
        {
          "output_type": "display_data",
          "data": {
            "image/png": "[encoded data removed]",
            "text/plain": [
              "<Figure size 432x288 with 1 Axes>"
            ]
          },
          "metadata": {
            "needs_background": "light"
          }
        }
      ]
    },
    {
      "cell_type": "code",
      "source": [
        "#scaling\n",
        "x_max=x_data.iloc[:,0].max()\n",
        "x_data.iloc[:,0]=x_data.iloc[:,0]/x_max\n",
        "print(x_max)\n",
        "print(x_data)"
      ],
      "metadata": {
        "colab": {
          "base_uri": "https://localhost:8080/"
        },
        "id": "C1XcicVSRUom",
        "outputId": "ed66f4f7-bd6e-46c7-e677-0fbcd1b13445"
      },
      "execution_count": 72,
      "outputs": [
        {
          "output_type": "stream",
          "name": "stdout",
          "text": [
            "400\n",
            "     FBG (mg/dL)  x0\n",
            "0         0.3500   1\n",
            "1         0.3375   1\n",
            "2         0.3500   1\n",
            "3         0.4750   1\n",
            "4         0.6250   1\n",
            "..           ...  ..\n",
            "105       0.7500   1\n",
            "106       0.3250   1\n",
            "107       0.6250   1\n",
            "108       0.4250   1\n",
            "109       0.5000   1\n",
            "\n",
            "[110 rows x 2 columns]\n"
          ]
        },
        {
          "output_type": "stream",
          "name": "stderr",
          "text": [
            "/usr/local/lib/python3.7/dist-packages/pandas/core/indexing.py:1743: SettingWithCopyWarning: \n",
            "A value is trying to be set on a copy of a slice from a DataFrame.\n",
            "Try using .loc[row_indexer,col_indexer] = value instead\n",
            "\n",
            "See the caveats in the documentation: https://pandas.pydata.org/pandas-docs/stable/user_guide/indexing.html#returning-a-view-versus-a-copy\n",
            "  isetter(ilocs[0], value)\n"
          ]
        }
      ]
    },
    {
      "cell_type": "code",
      "source": [
        "#convert to matrix\n",
        "x_data=np.array(x_data)\n",
        "y_data=np.array(y_data).flatten()\n",
        "print(x_data.shape)\n",
        "print(y_data.shape)"
      ],
      "metadata": {
        "colab": {
          "base_uri": "https://localhost:8080/"
        },
        "id": "lwVYDSdaS9ss",
        "outputId": "439a6c60-6901-443b-f3d5-aef74e554d94"
      },
      "execution_count": 73,
      "outputs": [
        {
          "output_type": "stream",
          "name": "stdout",
          "text": [
            "(110, 2)\n",
            "(110,)\n"
          ]
        }
      ]
    },
    {
      "cell_type": "code",
      "source": [
        "#split data train & test 80/20\n",
        "trainSize=int(y_data.size*.8)\n",
        "testSize=round(y_data.size*.2)\n",
        "print(trainSize,testSize)\n",
        "xTrain=x_data[:trainSize]\n",
        "xTest=x_data[trainSize:]\n",
        "\n",
        "yTrain=y_data[:trainSize]\n",
        "yTest=y_data[trainSize:]\n",
        "\n",
        "print(xTrain,xTest)\n",
        "print(len(yTrain),len(yTest))"
      ],
      "metadata": {
        "colab": {
          "base_uri": "https://localhost:8080/"
        },
        "id": "o0vcL8BaTp4r",
        "outputId": "dcb1d4ea-f952-48ef-f817-6dcdf689483d"
      },
      "execution_count": 74,
      "outputs": [
        {
          "output_type": "stream",
          "name": "stdout",
          "text": [
            "88 22\n",
            "[[0.35   1.    ]\n",
            " [0.3375 1.    ]\n",
            " [0.35   1.    ]\n",
            " [0.475  1.    ]\n",
            " [0.625  1.    ]\n",
            " [0.3    1.    ]\n",
            " [0.5    1.    ]\n",
            " [0.275  1.    ]\n",
            " [0.45   1.    ]\n",
            " [0.375  1.    ]\n",
            " [0.4    1.    ]\n",
            " [0.35   1.    ]\n",
            " [0.475  1.    ]\n",
            " [0.375  1.    ]\n",
            " [0.3125 1.    ]\n",
            " [0.75   1.    ]\n",
            " [0.3625 1.    ]\n",
            " [0.45   1.    ]\n",
            " [0.7    1.    ]\n",
            " [0.55   1.    ]\n",
            " [0.75   1.    ]\n",
            " [0.275  1.    ]\n",
            " [0.3    1.    ]\n",
            " [0.325  1.    ]\n",
            " [0.45   1.    ]\n",
            " [0.325  1.    ]\n",
            " [0.3875 1.    ]\n",
            " [0.45   1.    ]\n",
            " [0.375  1.    ]\n",
            " [0.75   1.    ]\n",
            " [0.375  1.    ]\n",
            " [0.525  1.    ]\n",
            " [0.5    1.    ]\n",
            " [0.475  1.    ]\n",
            " [0.35   1.    ]\n",
            " [0.5    1.    ]\n",
            " [0.525  1.    ]\n",
            " [0.75   1.    ]\n",
            " [0.425  1.    ]\n",
            " [0.4375 1.    ]\n",
            " [0.75   1.    ]\n",
            " [0.2875 1.    ]\n",
            " [0.3    1.    ]\n",
            " [0.275  1.    ]\n",
            " [0.4125 1.    ]\n",
            " [0.625  1.    ]\n",
            " [0.4    1.    ]\n",
            " [0.5    1.    ]\n",
            " [0.4    1.    ]\n",
            " [0.4625 1.    ]\n",
            " [0.75   1.    ]\n",
            " [0.425  1.    ]\n",
            " [0.625  1.    ]\n",
            " [0.575  1.    ]\n",
            " [0.6    1.    ]\n",
            " [0.5625 1.    ]\n",
            " [0.75   1.    ]\n",
            " [0.45   1.    ]\n",
            " [0.375  1.    ]\n",
            " [0.345  1.    ]\n",
            " [0.6875 1.    ]\n",
            " [0.4875 1.    ]\n",
            " [0.675  1.    ]\n",
            " [0.625  1.    ]\n",
            " [0.5    1.    ]\n",
            " [0.5    1.    ]\n",
            " [0.375  1.    ]\n",
            " [0.625  1.    ]\n",
            " [0.5    1.    ]\n",
            " [0.375  1.    ]\n",
            " [0.925  1.    ]\n",
            " [0.375  1.    ]\n",
            " [0.5    1.    ]\n",
            " [0.625  1.    ]\n",
            " [0.375  1.    ]\n",
            " [0.95   1.    ]\n",
            " [0.5    1.    ]\n",
            " [0.435  1.    ]\n",
            " [0.625  1.    ]\n",
            " [0.875  1.    ]\n",
            " [0.4    1.    ]\n",
            " [0.625  1.    ]\n",
            " [0.875  1.    ]\n",
            " [0.45   1.    ]\n",
            " [0.5    1.    ]\n",
            " [0.5    1.    ]\n",
            " [0.5    1.    ]\n",
            " [0.375  1.    ]] [[0.45   1.    ]\n",
            " [0.9875 1.    ]\n",
            " [0.4375 1.    ]\n",
            " [0.5    1.    ]\n",
            " [0.725  1.    ]\n",
            " [0.4375 1.    ]\n",
            " [0.35   1.    ]\n",
            " [0.4    1.    ]\n",
            " [0.3    1.    ]\n",
            " [0.25   1.    ]\n",
            " [0.5    1.    ]\n",
            " [0.75   1.    ]\n",
            " [0.75   1.    ]\n",
            " [0.5375 1.    ]\n",
            " [0.35   1.    ]\n",
            " [0.4125 1.    ]\n",
            " [1.     1.    ]\n",
            " [0.75   1.    ]\n",
            " [0.325  1.    ]\n",
            " [0.625  1.    ]\n",
            " [0.425  1.    ]\n",
            " [0.5    1.    ]]\n",
            "88 22\n"
          ]
        }
      ]
    },
    {
      "cell_type": "code",
      "source": [
        "alpha=.0001\n",
        "ceta=np.array([0,0])\n",
        "def gradientDescentOneVar():\n",
        "    global ceta\n",
        "    for i in range(100):\n",
        "        y_pred = xTrain.dot(ceta) #loss\n",
        "        ceta = ceta - (xTrain.T.dot(y_pred - yTrain)) * alpha * (1 / trainSize)\n",
        "        ceta0,ceta1=ceta\n",
        "        #print(MSE(ceta0,ceta1))\n",
        "        print(ceta)"
      ],
      "metadata": {
        "id": "EU0Jop-CW3rp"
      },
      "execution_count": 75,
      "outputs": []
    },
    {
      "cell_type": "code",
      "source": [
        "def MSE(ceta0,ceta1):\n",
        "    Esum=0\n",
        "    for i in range(trainSize):\n",
        "        Esum+=pow( y_data[i] - (ceta0+ceta1*x_data[i]) , 2)\n",
        "    Esum=Esum*(1/trainSize)\n",
        "    return Esum"
      ],
      "metadata": {
        "id": "gDnukG5HW_Cc"
      },
      "execution_count": 76,
      "outputs": []
    },
    {
      "cell_type": "code",
      "source": [
        "gradientDescentOneVar()"
      ],
      "metadata": {
        "colab": {
          "base_uri": "https://localhost:8080/"
        },
        "id": "ZL7RcrO6XAOz",
        "outputId": "73bf247b-658e-42e7-e6a1-10dedaccbccb"
      },
      "execution_count": 77,
      "outputs": [
        {
          "output_type": "stream",
          "name": "stdout",
          "text": [
            "[0.00273465 0.0043292 ]\n",
            "[0.00546901 0.00865784]\n",
            "[0.00820308 0.01298591]\n",
            "[0.01093686 0.01731341]\n",
            "[0.01367035 0.02164034]\n",
            "[0.01640356 0.0259667 ]\n",
            "[0.01913647 0.03029249]\n",
            "[0.0218691  0.03461772]\n",
            "[0.02460144 0.03894238]\n",
            "[0.02733349 0.04326647]\n",
            "[0.03006525 0.04758999]\n",
            "[0.03279672 0.05191295]\n",
            "[0.03552791 0.05623533]\n",
            "[0.03825881 0.06055715]\n",
            "[0.04098941 0.0648784 ]\n",
            "[0.04371973 0.06919909]\n",
            "[0.04644977 0.0735192 ]\n",
            "[0.04917951 0.07783875]\n",
            "[0.05190897 0.08215773]\n",
            "[0.05463813 0.08647615]\n",
            "[0.05736701 0.090794  ]\n",
            "[0.06009561 0.09511128]\n",
            "[0.06282391 0.09942799]\n",
            "[0.06555193 0.10374414]\n",
            "[0.06827965 0.10805971]\n",
            "[0.07100709 0.11237473]\n",
            "[0.07373425 0.11668917]\n",
            "[0.07646111 0.12100305]\n",
            "[0.07918769 0.12531636]\n",
            "[0.08191398 0.12962911]\n",
            "[0.08463998 0.13394129]\n",
            "[0.08736569 0.1382529 ]\n",
            "[0.09009112 0.14256395]\n",
            "[0.09281625 0.14687443]\n",
            "[0.09554111 0.15118434]\n",
            "[0.09826567 0.15549369]\n",
            "[0.10098994 0.15980247]\n",
            "[0.10371393 0.16411069]\n",
            "[0.10643763 0.16841834]\n",
            "[0.10916105 0.17272542]\n",
            "[0.11188417 0.17703194]\n",
            "[0.11460701 0.18133789]\n",
            "[0.11732956 0.18564328]\n",
            "[0.12005183 0.1899481 ]\n",
            "[0.1227738  0.19425236]\n",
            "[0.12549549 0.19855605]\n",
            "[0.1282169  0.20285917]\n",
            "[0.13093801 0.20716173]\n",
            "[0.13365884 0.21146373]\n",
            "[0.13637938 0.21576516]\n",
            "[0.13909964 0.22006602]\n",
            "[0.14181961 0.22436632]\n",
            "[0.14453929 0.22866605]\n",
            "[0.14725868 0.23296522]\n",
            "[0.14997779 0.23726383]\n",
            "[0.15269661 0.24156187]\n",
            "[0.15541514 0.24585935]\n",
            "[0.15813339 0.25015626]\n",
            "[0.16085135 0.2544526 ]\n",
            "[0.16356902 0.25874838]\n",
            "[0.16628641 0.2630436 ]\n",
            "[0.16900351 0.26733826]\n",
            "[0.17172032 0.27163235]\n",
            "[0.17443685 0.27592587]\n",
            "[0.17715309 0.28021883]\n",
            "[0.17986905 0.28451123]\n",
            "[0.18258471 0.28880306]\n",
            "[0.1853001  0.29309433]\n",
            "[0.18801519 0.29738504]\n",
            "[0.19073    0.30167518]\n",
            "[0.19344452 0.30596476]\n",
            "[0.19615876 0.31025377]\n",
            "[0.19887271 0.31454222]\n",
            "[0.20158637 0.31883011]\n",
            "[0.20429975 0.32311743]\n",
            "[0.20701284 0.32740419]\n",
            "[0.20972565 0.33169039]\n",
            "[0.21243817 0.33597603]\n",
            "[0.2151504 0.3402611]\n",
            "[0.21786235 0.3445456 ]\n",
            "[0.22057401 0.34882955]\n",
            "[0.22328539 0.35311293]\n",
            "[0.22599648 0.35739575]\n",
            "[0.22870728 0.36167801]\n",
            "[0.2314178 0.3659597]\n",
            "[0.23412803 0.37024084]\n",
            "[0.23683798 0.3745214 ]\n",
            "[0.23954764 0.37880141]\n",
            "[0.24225702 0.38308086]\n",
            "[0.24496611 0.38735974]\n",
            "[0.24767491 0.39163806]\n",
            "[0.25038343 0.39591582]\n",
            "[0.25309167 0.40019301]\n",
            "[0.25579961 0.40446964]\n",
            "[0.25850728 0.40874572]\n",
            "[0.26121465 0.41302123]\n",
            "[0.26392175 0.41729617]\n",
            "[0.26662855 0.42157056]\n",
            "[0.26933508 0.42584438]\n",
            "[0.27204131 0.43011765]\n"
          ]
        }
      ]
    },
    {
      "cell_type": "code",
      "source": [
        "def calAccuracy():\n",
        "    count=0\n",
        "    ytestpred = xTest.dot(ceta)\n",
        "    print(ytestpred[1],yTest[1])"
      ],
      "metadata": {
        "id": "qtNEIV-3kHMI"
      },
      "execution_count": 78,
      "outputs": []
    },
    {
      "cell_type": "code",
      "source": [
        "calAccuracy()"
      ],
      "metadata": {
        "colab": {
          "base_uri": "https://localhost:8080/"
        },
        "id": "QmIOR6vJk9hs",
        "outputId": "c7555ad6-0044-4972-986a-4a7499924f26"
      },
      "execution_count": 79,
      "outputs": [
        {
          "output_type": "stream",
          "name": "stdout",
          "text": [
            "0.6987584412798135 258.0\n"
          ]
        }
      ]
    }
  ]
}