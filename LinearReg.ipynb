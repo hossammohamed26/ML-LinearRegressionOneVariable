{
  "nbformat": 4,
  "nbformat_minor": 0,
  "metadata": {
    "colab": {
      "name": "LinearReg.ipynb",
      "provenance": [],
      "collapsed_sections": [],
      "authorship_tag": "ABX9TyO4n07oFtxGWezdAjiy4MqF"
    },
    "kernelspec": {
      "name": "python3",
      "display_name": "Python 3"
    },
    "language_info": {
      "name": "python"
    }
  },
  "cells": [
    {
      "cell_type": "code",
      "execution_count": 533,
      "metadata": {
        "id": "bhHMnRJSkGwj"
      },
      "outputs": [],
      "source": [
        "import numpy as np\n",
        "import matplotlib.pyplot as plt\n",
        "import pandas as pd"
      ]
    },
    {
      "cell_type": "code",
      "source": [
        "dataset = pd.read_csv('house_data.csv')"
      ],
      "metadata": {
        "id": "tHnkWc8fkfFl"
      },
      "execution_count": 534,
      "outputs": []
    },
    {
      "cell_type": "code",
      "source": [
        "dataset.insert(5,\"x0\",1)\n",
        "print (dataset.head())\n"
      ],
      "metadata": {
        "colab": {
          "base_uri": "https://localhost:8080/"
        },
        "id": "x_Wb9l-qNVIz",
        "outputId": "08336f66-96cc-406d-d03f-8b6e063c05e5"
      },
      "execution_count": 535,
      "outputs": [
        {
          "output_type": "stream",
          "name": "stdout",
          "text": [
            "           id             date     price  ...     long  sqft_living15  sqft_lot15\n",
            "0  7129300520  20141013T000000  221900.0  ... -122.257           1340        5650\n",
            "1  6414100192  20141209T000000  538000.0  ... -122.319           1690        7639\n",
            "2  5631500400  20150225T000000  180000.0  ... -122.233           2720        8062\n",
            "3  2487200875  20141209T000000  604000.0  ... -122.393           1360        5000\n",
            "4  1954400510  20150218T000000  510000.0  ... -122.045           1800        7503\n",
            "\n",
            "[5 rows x 22 columns]\n"
          ]
        }
      ]
    },
    {
      "cell_type": "code",
      "source": [
        "x_data = dataset.iloc[:,[5,6]]\n",
        "y_data = dataset['price']\n",
        "plt.plot(x_data.iloc[:,1], y_data, 'ro', label='Original data') \n",
        "plt.xlabel(\"sqft\")\n",
        "plt.ylabel(\"price\")\n",
        "plt.legend()\n",
        "plt.show()"
      ],
      "metadata": {
        "colab": {
          "base_uri": "https://localhost:8080/",
          "height": 290
        },
        "id": "g7NW7rypwlpm",
        "outputId": "006ae759-ed1e-4d4d-f48d-4e9b284d8ea0"
      },
      "execution_count": 536,
      "outputs": [
        {
          "output_type": "display_data",
          "data": {
            "image/png": "[encoded data removed]",
            "text/plain": [
              "<Figure size 432x288 with 1 Axes>"
            ]
          },
          "metadata": {
            "needs_background": "light"
          }
        }
      ]
    },
    {
      "cell_type": "code",
      "source": [
        "#scaling\n",
        "x_max=x_data.iloc[:,1].max()\n",
        "x_min=x_data.iloc[:,1].min()\n",
        "x_data.iloc[:,1]=(x_data.iloc[:,1])/(x_max)\n",
        "print(x_max)\n",
        "print(x_data)"
      ],
      "metadata": {
        "colab": {
          "base_uri": "https://localhost:8080/"
        },
        "id": "C1XcicVSRUom",
        "outputId": "f82363b3-ab48-44b9-e34e-634b61706999"
      },
      "execution_count": 537,
      "outputs": [
        {
          "output_type": "stream",
          "name": "stdout",
          "text": [
            "13540\n",
            "       x0  sqft_living\n",
            "0       1     0.087149\n",
            "1       1     0.189808\n",
            "2       1     0.056869\n",
            "3       1     0.144756\n",
            "4       1     0.124077\n",
            "...    ..          ...\n",
            "21608   1     0.112999\n",
            "21609   1     0.170606\n",
            "21610   1     0.075332\n",
            "21611   1     0.118168\n",
            "21612   1     0.075332\n",
            "\n",
            "[21613 rows x 2 columns]\n"
          ]
        },
        {
          "output_type": "stream",
          "name": "stderr",
          "text": [
            "/usr/local/lib/python3.7/dist-packages/pandas/core/indexing.py:1743: SettingWithCopyWarning: \n",
            "A value is trying to be set on a copy of a slice from a DataFrame.\n",
            "Try using .loc[row_indexer,col_indexer] = value instead\n",
            "\n",
            "See the caveats in the documentation: https://pandas.pydata.org/pandas-docs/stable/user_guide/indexing.html#returning-a-view-versus-a-copy\n",
            "  isetter(ilocs[0], value)\n"
          ]
        }
      ]
    },
    {
      "cell_type": "code",
      "source": [
        "#convert to matrix\n",
        "x_data=np.array(x_data)\n",
        "y_data=np.array(y_data).flatten()\n",
        "print(x_data.shape)\n",
        "print(y_data.shape)"
      ],
      "metadata": {
        "colab": {
          "base_uri": "https://localhost:8080/"
        },
        "id": "lwVYDSdaS9ss",
        "outputId": "40a535c1-bbfd-4721-e284-e28471b9a736"
      },
      "execution_count": 538,
      "outputs": [
        {
          "output_type": "stream",
          "name": "stdout",
          "text": [
            "(21613, 2)\n",
            "(21613,)\n"
          ]
        }
      ]
    },
    {
      "cell_type": "code",
      "source": [
        "#split data train & test 80/20\n",
        "trainSize=int(y_data.size*.8)\n",
        "print(trainSize,testSize)\n",
        "xTrain=x_data[:trainSize]\n",
        "xTest=x_data[trainSize:]\n",
        "\n",
        "yTrain=y_data[:trainSize]\n",
        "yTest=y_data[trainSize:]\n",
        "\n",
        "print(xTrain,xTest)\n",
        "print(len(yTrain),len(yTest))"
      ],
      "metadata": {
        "colab": {
          "base_uri": "https://localhost:8080/"
        },
        "id": "o0vcL8BaTp4r",
        "outputId": "39cf5eb5-4832-4096-df3d-08948505252a"
      },
      "execution_count": 539,
      "outputs": [
        {
          "output_type": "stream",
          "name": "stdout",
          "text": [
            "17290 4323\n",
            "[[1.         0.08714919]\n",
            " [1.         0.18980798]\n",
            " [1.         0.05686854]\n",
            " ...\n",
            " [1.         0.18759232]\n",
            " [1.         0.38035451]\n",
            " [1.         0.25258493]] [[1.         0.1676514 ]\n",
            " [1.         0.1676514 ]\n",
            " [1.         0.10856721]\n",
            " ...\n",
            " [1.         0.07533235]\n",
            " [1.         0.11816839]\n",
            " [1.         0.07533235]]\n",
            "17290 4323\n"
          ]
        }
      ]
    },
    {
      "cell_type": "code",
      "source": [
        "alpha=.1 \n",
        "ceta=np.array([0,0])\n",
        "def gradientDescentOneVar():\n",
        "    global ceta\n",
        "    for i in range(100000):\n",
        "        y_pred = xTrain.dot(ceta) \n",
        "        ceta = ceta - ((xTrain.T.dot(y_pred - yTrain)) * alpha * (1 / trainSize))\n",
        "        ceta0,ceta1=ceta\n",
        "    print(\"MSE = \",MSE(ceta0,ceta1))\n",
        "    print(\"Theta: \",ceta)"
      ],
      "metadata": {
        "id": "EU0Jop-CW3rp"
      },
      "execution_count": 540,
      "outputs": []
    },
    {
      "cell_type": "code",
      "source": [
        "def MSE(ceta0,ceta1):\n",
        "    Esum=0\n",
        "    xTrain1=xTrain[:,1]\n",
        "    for i in range(trainSize):\n",
        "        Esum+=pow( yTrain[i] - (ceta0+ceta1*xTrain1[i]) , 2)\n",
        "    Esum=Esum*(1/(2 * trainSize))\n",
        "    return Esum"
      ],
      "metadata": {
        "id": "gDnukG5HW_Cc"
      },
      "execution_count": 541,
      "outputs": []
    },
    {
      "cell_type": "code",
      "source": [
        "gradientDescentOneVar()"
      ],
      "metadata": {
        "colab": {
          "base_uri": "https://localhost:8080/"
        },
        "id": "ZL7RcrO6XAOz",
        "outputId": "88bf4008-b431-4974-edf8-3441f4fcd6c6"
      },
      "execution_count": 542,
      "outputs": [
        {
          "output_type": "stream",
          "name": "stdout",
          "text": [
            "MSE =  34012848737.616528\n",
            "Theta:  [ -49860.77041045 3843792.41197223]\n"
          ]
        }
      ]
    },
    {
      "cell_type": "code",
      "source": [
        "plt.scatter(x_data[:,1], y_data,)\n",
        "xPoints = np.linspace(0,0.8,5)\n",
        "yPoints = [ceta[0] + ceta[1]* x for x in xPoints]\n",
        "plt.plot(fitX, fitY,color='red') \n",
        "plt.xlabel(\"sqft\")\n",
        "plt.ylabel(\"price\")\n",
        "plt.legend()\n",
        "plt.show()"
      ],
      "metadata": {
        "colab": {
          "base_uri": "https://localhost:8080/",
          "height": 307
        },
        "id": "mWOqIoVaUdPS",
        "outputId": "3135d49c-d274-4acb-e19c-e0f39abfb27c"
      },
      "execution_count": 543,
      "outputs": [
        {
          "output_type": "stream",
          "name": "stderr",
          "text": [
            "No handles with labels found to put in legend.\n"
          ]
        },
        {
          "output_type": "display_data",
          "data": {
            "image/png": "[encoded data removed]",
            "text/plain": [
              "<Figure size 432x288 with 1 Axes>"
            ]
          },
          "metadata": {
            "needs_background": "light"
          }
        }
      ]
    },
    {
      "cell_type": "code",
      "source": [
        "def predTest():\n",
        "    ytestpred = xTest.dot(ceta)\n",
        "    print(ytestpred,yTest)"
      ],
      "metadata": {
        "id": "qtNEIV-3kHMI"
      },
      "execution_count": 544,
      "outputs": []
    },
    {
      "cell_type": "code",
      "source": [
        "predTest()"
      ],
      "metadata": {
        "colab": {
          "base_uri": "https://localhost:8080/"
        },
        "id": "QmIOR6vJk9hs",
        "outputId": "5caa9ecf-9dc0-4ff0-ac3a-4c5342a5b37e"
      },
      "execution_count": 545,
      "outputs": [
        {
          "output_type": "stream",
          "name": "stdout",
          "text": [
            "[594556.42125698 594556.42125698 367449.04093366 ... 239701.13950179\n",
            " 404353.9902362  239701.13950179] [380000. 624900. 379770. ... 402101. 400000. 325000.]\n"
          ]
        }
      ]
    },
    {
      "cell_type": "code",
      "source": [
        "#Trying different alphas\n",
        "#alpha = .1       iteration = 100000      MSE =  34012848737.616528\n",
        "#alpha = .4       iteration = 10000       MSE =  34012848737.616543\n",
        "#alpha = .01      iteration = 10000       MSE =  47225349578.991615\n",
        "#alpha = .001     iteration = 50000       MSE =  54442254613.358246\n",
        "#alpha = .0001    iteration = 100000      MSE =  62964040240.09301"
      ],
      "metadata": {
        "id": "Ka2UuV8WY8st"
      },
      "execution_count": 547,
      "outputs": []
    }
  ]
}